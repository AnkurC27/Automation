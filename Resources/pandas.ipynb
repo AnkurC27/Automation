import pandas as pd
sample_data = pd.read_csv('sample_data.csv')